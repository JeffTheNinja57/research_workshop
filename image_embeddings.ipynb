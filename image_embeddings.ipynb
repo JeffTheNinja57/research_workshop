{
 "cells": [
  {
   "cell_type": "code",
   "execution_count": null,
   "metadata": {},
   "outputs": [],
   "source": [
    "from transformers import ViTImageProcessor, ViTModel\n",
    "from PIL import Image\n",
    "import pickle\n",
    "import cv2 as cv\n",
    "import os\n"
   ]
  },
  {
   "cell_type": "code",
   "execution_count": null,
   "metadata": {},
   "outputs": [],
   "source": [
    "images = {}\n",
    "\n",
    "COCO = \"~/BOLD5000_Stimuli/Scene_Stimuli/Presented_Stimuli/COCO\"  #directory with the COCO presented stimuli\n",
    "ImageNet = \"~/Final AE/BOLD5000_Stimuli/Scene_Stimuli/Presented_Stimuli/ImageNet\" #directory with the ImageNet presented stimuli\n",
    "Scene = \"~/BOLD5000_Stimuli/Scene_Stimuli/Presented_Stimuli/Scene\"   #directory with the Scene presented stimuli\n",
    "\n",
    "paths = [COCO, ImageNet, Scene]\n",
    "\n",
    "for path in paths:\n",
    "    for filename in os.listdir(path):\n",
    "        #print(filename)\n",
    "        img_path = os.path.join(path, filename)\n",
    "        img = cv.imread(img_path)\n",
    "        images[filename] = img\n",
    "    "
   ]
  },
  {
   "cell_type": "code",
   "execution_count": null,
   "metadata": {},
   "outputs": [],
   "source": [
    "for image in images:\n",
    "    print (images[image])"
   ]
  },
  {
   "cell_type": "code",
   "execution_count": null,
   "metadata": {},
   "outputs": [],
   "source": [
    "processor = ViTImageProcessor.from_pretrained('google/vit-base-patch16-224-in21k')\n",
    "model = ViTModel.from_pretrained('google/vit-base-patch16-224-in21k')"
   ]
  },
  {
   "cell_type": "code",
   "execution_count": null,
   "metadata": {},
   "outputs": [],
   "source": [
    "one_dim_embeddings = {}\n",
    "max_length = 10\n",
    "\n",
    "for image in images:\n",
    "    if len(one_dim_embeddings) == max_length:\n",
    "        break\n",
    "    else:\n",
    "        inputs = processor(images=images[image], return_tensors=\"pt\")\n",
    "        outputs = model(**inputs)\n",
    "        one_dim_embeddings[image] = (outputs.last_hidden_state).reshape(-1)"
   ]
  },
  {
   "cell_type": "code",
   "execution_count": null,
   "metadata": {},
   "outputs": [],
   "source": [
    "#saves the one dimensional embeddings as a .pkl file in the current working directory\n",
    "\n",
    "with open('one_dim_embeddings.pkl', 'wb') as emb:\n",
    "    pickle.dump(one_dim_embeddings, emb)"
   ]
  }
 ],
 "metadata": {
  "kernelspec": {
   "display_name": "base",
   "language": "python",
   "name": "python3"
  },
  "language_info": {
   "codemirror_mode": {
    "name": "ipython",
    "version": 3
   },
   "file_extension": ".py",
   "mimetype": "text/x-python",
   "name": "python",
   "nbconvert_exporter": "python",
   "pygments_lexer": "ipython3",
   "version": "3.11.1"
  }
 },
 "nbformat": 4,
 "nbformat_minor": 2
}
